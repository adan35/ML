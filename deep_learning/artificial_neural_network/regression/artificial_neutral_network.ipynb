{
 "cells": [
  {
   "cell_type": "markdown",
   "metadata": {},
   "source": [
    "# Artificial Neural Network"
   ]
  },
  {
   "cell_type": "markdown",
   "metadata": {},
   "source": [
    "### Importing the libraries"
   ]
  },
  {
   "cell_type": "code",
   "execution_count": 7,
   "metadata": {},
   "outputs": [],
   "source": [
    "import numpy as np\n",
    "import pandas as pd\n",
    "import tensorflow as tf"
   ]
  },
  {
   "cell_type": "markdown",
   "metadata": {},
   "source": [
    "## Part 1 - Data Preprocessing"
   ]
  },
  {
   "cell_type": "markdown",
   "metadata": {},
   "source": [
    "### Importing the dataset"
   ]
  },
  {
   "cell_type": "code",
   "execution_count": 8,
   "metadata": {},
   "outputs": [],
   "source": [
    "dataset = pd.read_excel(\"Folds5x2_pp.xlsx\")\n",
    "X = dataset.iloc[:, :-1].values\n",
    "y = dataset.iloc[:, -1].values"
   ]
  },
  {
   "cell_type": "code",
   "execution_count": 9,
   "metadata": {},
   "outputs": [
    {
     "name": "stdout",
     "output_type": "stream",
     "text": [
      "[[  14.96   41.76 1024.07   73.17]\n",
      " [  25.18   62.96 1020.04   59.08]\n",
      " [   5.11   39.4  1012.16   92.14]\n",
      " ...\n",
      " [  31.32   74.33 1012.92   36.48]\n",
      " [  24.48   69.45 1013.86   62.39]\n",
      " [  21.6    62.52 1017.23   67.87]]\n"
     ]
    }
   ],
   "source": [
    "print(X)"
   ]
  },
  {
   "cell_type": "code",
   "execution_count": 10,
   "metadata": {},
   "outputs": [
    {
     "name": "stdout",
     "output_type": "stream",
     "text": [
      "[463.26 444.37 488.56 ... 429.57 435.74 453.28]\n"
     ]
    }
   ],
   "source": [
    "print(y)"
   ]
  },
  {
   "cell_type": "markdown",
   "metadata": {},
   "source": [
    "### Splitting the dataset into the Training set and Test set"
   ]
  },
  {
   "cell_type": "code",
   "execution_count": 11,
   "metadata": {},
   "outputs": [],
   "source": [
    "from sklearn.model_selection import train_test_split\n",
    "X_train, X_test, y_train, y_test = train_test_split(X, y)"
   ]
  },
  {
   "cell_type": "markdown",
   "metadata": {},
   "source": [
    "## Part 2 - Building the ANN"
   ]
  },
  {
   "cell_type": "markdown",
   "metadata": {},
   "source": [
    "### Initializing the ANN"
   ]
  },
  {
   "cell_type": "code",
   "execution_count": 13,
   "metadata": {},
   "outputs": [],
   "source": [
    "ann = tf.keras.models.Sequential()"
   ]
  },
  {
   "cell_type": "markdown",
   "metadata": {},
   "source": [
    "### Adding the input layer and the first hidden layer"
   ]
  },
  {
   "cell_type": "code",
   "execution_count": 14,
   "metadata": {},
   "outputs": [],
   "source": [
    "ann.add(tf.keras.layers.Dense(units=6, activation=\"relu\"))"
   ]
  },
  {
   "cell_type": "markdown",
   "metadata": {},
   "source": [
    "### Adding the second hidden layer"
   ]
  },
  {
   "cell_type": "code",
   "execution_count": 15,
   "metadata": {},
   "outputs": [],
   "source": [
    "ann.add(tf.keras.layers.Dense(units=6, activation=\"relu\"))"
   ]
  },
  {
   "cell_type": "markdown",
   "metadata": {},
   "source": [
    "### Adding the output layer"
   ]
  },
  {
   "cell_type": "code",
   "execution_count": 16,
   "metadata": {},
   "outputs": [],
   "source": [
    "ann.add(tf.keras.layers.Dense(units=1))"
   ]
  },
  {
   "cell_type": "markdown",
   "metadata": {},
   "source": [
    "## Part 3 - Training the ANN"
   ]
  },
  {
   "cell_type": "markdown",
   "metadata": {},
   "source": [
    "### Compiling the ANN"
   ]
  },
  {
   "cell_type": "code",
   "execution_count": 20,
   "metadata": {},
   "outputs": [],
   "source": [
    "ann.compile(optimizer=\"adam\", loss=\"mean_squared_error\")"
   ]
  },
  {
   "cell_type": "markdown",
   "metadata": {},
   "source": [
    "### Training the ANN model on the Training set"
   ]
  },
  {
   "cell_type": "code",
   "execution_count": 21,
   "metadata": {},
   "outputs": [
    {
     "name": "stdout",
     "output_type": "stream",
     "text": [
      "Epoch 1/100\n",
      "225/225 [==============================] - 1s 2ms/step - loss: 34965.6133\n",
      "Epoch 2/100\n",
      "225/225 [==============================] - 0s 2ms/step - loss: 323.4329\n",
      "Epoch 3/100\n",
      "225/225 [==============================] - 0s 2ms/step - loss: 310.5876\n",
      "Epoch 4/100\n",
      "225/225 [==============================] - 0s 2ms/step - loss: 294.8719\n",
      "Epoch 5/100\n",
      "225/225 [==============================] - 0s 2ms/step - loss: 276.1291\n",
      "Epoch 6/100\n",
      "225/225 [==============================] - 0s 2ms/step - loss: 256.5000\n",
      "Epoch 7/100\n",
      "225/225 [==============================] - 0s 2ms/step - loss: 235.5601\n",
      "Epoch 8/100\n",
      "225/225 [==============================] - 1s 3ms/step - loss: 213.1134\n",
      "Epoch 9/100\n",
      "225/225 [==============================] - 1s 3ms/step - loss: 191.1324\n",
      "Epoch 10/100\n",
      "225/225 [==============================] - 1s 3ms/step - loss: 169.1922\n",
      "Epoch 11/100\n",
      "225/225 [==============================] - 0s 2ms/step - loss: 148.3351\n",
      "Epoch 12/100\n",
      "225/225 [==============================] - 0s 2ms/step - loss: 128.5054\n",
      "Epoch 13/100\n",
      "225/225 [==============================] - 0s 2ms/step - loss: 110.4423\n",
      "Epoch 14/100\n",
      "225/225 [==============================] - 1s 3ms/step - loss: 93.9280\n",
      "Epoch 15/100\n",
      "225/225 [==============================] - 1s 2ms/step - loss: 79.4388\n",
      "Epoch 16/100\n",
      "225/225 [==============================] - 1s 3ms/step - loss: 67.5615\n",
      "Epoch 17/100\n",
      "225/225 [==============================] - 0s 2ms/step - loss: 57.3876\n",
      "Epoch 18/100\n",
      "225/225 [==============================] - 0s 2ms/step - loss: 49.0270\n",
      "Epoch 19/100\n",
      "225/225 [==============================] - 0s 2ms/step - loss: 42.9812\n",
      "Epoch 20/100\n",
      "225/225 [==============================] - 0s 2ms/step - loss: 38.5277\n",
      "Epoch 21/100\n",
      "225/225 [==============================] - 0s 2ms/step - loss: 34.9233\n",
      "Epoch 22/100\n",
      "225/225 [==============================] - 0s 2ms/step - loss: 32.6476\n",
      "Epoch 23/100\n",
      "225/225 [==============================] - 0s 2ms/step - loss: 31.0569\n",
      "Epoch 24/100\n",
      "225/225 [==============================] - 0s 2ms/step - loss: 29.8198\n",
      "Epoch 25/100\n",
      "225/225 [==============================] - 0s 2ms/step - loss: 29.2992\n",
      "Epoch 26/100\n",
      "225/225 [==============================] - 0s 2ms/step - loss: 28.0006\n",
      "Epoch 27/100\n",
      "225/225 [==============================] - 0s 2ms/step - loss: 28.0482\n",
      "Epoch 28/100\n",
      "225/225 [==============================] - 0s 2ms/step - loss: 27.4924\n",
      "Epoch 29/100\n",
      "225/225 [==============================] - 0s 2ms/step - loss: 27.3697\n",
      "Epoch 30/100\n",
      "225/225 [==============================] - 0s 2ms/step - loss: 27.3819\n",
      "Epoch 31/100\n",
      "225/225 [==============================] - 0s 2ms/step - loss: 26.9953\n",
      "Epoch 32/100\n",
      "225/225 [==============================] - 0s 2ms/step - loss: 27.3142\n",
      "Epoch 33/100\n",
      "225/225 [==============================] - 1s 2ms/step - loss: 26.8081\n",
      "Epoch 34/100\n",
      "225/225 [==============================] - 0s 2ms/step - loss: 26.7114\n",
      "Epoch 35/100\n",
      "225/225 [==============================] - 0s 2ms/step - loss: 27.2120\n",
      "Epoch 36/100\n",
      "225/225 [==============================] - 0s 2ms/step - loss: 26.8017\n",
      "Epoch 37/100\n",
      "225/225 [==============================] - 0s 2ms/step - loss: 27.5930\n",
      "Epoch 38/100\n",
      "225/225 [==============================] - 0s 2ms/step - loss: 27.8983\n",
      "Epoch 39/100\n",
      "225/225 [==============================] - 1s 2ms/step - loss: 26.5297\n",
      "Epoch 40/100\n",
      "225/225 [==============================] - 0s 2ms/step - loss: 27.4806\n",
      "Epoch 41/100\n",
      "225/225 [==============================] - 0s 2ms/step - loss: 26.6667\n",
      "Epoch 42/100\n",
      "225/225 [==============================] - 0s 2ms/step - loss: 27.1329\n",
      "Epoch 43/100\n",
      "225/225 [==============================] - 1s 2ms/step - loss: 26.9944\n",
      "Epoch 44/100\n",
      "225/225 [==============================] - 0s 2ms/step - loss: 27.9722\n",
      "Epoch 45/100\n",
      "225/225 [==============================] - 0s 2ms/step - loss: 26.6764\n",
      "Epoch 46/100\n",
      "225/225 [==============================] - 0s 2ms/step - loss: 26.5202\n",
      "Epoch 47/100\n",
      "225/225 [==============================] - 0s 2ms/step - loss: 26.8326\n",
      "Epoch 48/100\n",
      "225/225 [==============================] - 0s 2ms/step - loss: 25.9991\n",
      "Epoch 49/100\n",
      "225/225 [==============================] - 0s 2ms/step - loss: 26.6304\n",
      "Epoch 50/100\n",
      "225/225 [==============================] - 0s 2ms/step - loss: 26.8646\n",
      "Epoch 51/100\n",
      "225/225 [==============================] - 0s 2ms/step - loss: 27.1642\n",
      "Epoch 52/100\n",
      "225/225 [==============================] - 0s 2ms/step - loss: 26.0695\n",
      "Epoch 53/100\n",
      "225/225 [==============================] - 0s 2ms/step - loss: 27.0127\n",
      "Epoch 54/100\n",
      "225/225 [==============================] - 0s 2ms/step - loss: 27.5658\n",
      "Epoch 55/100\n",
      "225/225 [==============================] - 0s 2ms/step - loss: 28.1192\n",
      "Epoch 56/100\n",
      "225/225 [==============================] - 0s 2ms/step - loss: 26.8859\n",
      "Epoch 57/100\n",
      "225/225 [==============================] - 0s 2ms/step - loss: 26.0840\n",
      "Epoch 58/100\n",
      "225/225 [==============================] - 0s 2ms/step - loss: 27.3839\n",
      "Epoch 59/100\n",
      "225/225 [==============================] - 0s 2ms/step - loss: 26.8747\n",
      "Epoch 60/100\n",
      "225/225 [==============================] - 0s 2ms/step - loss: 26.9866\n",
      "Epoch 61/100\n",
      "225/225 [==============================] - 1s 2ms/step - loss: 26.3147\n",
      "Epoch 62/100\n",
      "225/225 [==============================] - 1s 3ms/step - loss: 26.4900\n",
      "Epoch 63/100\n",
      "225/225 [==============================] - 0s 2ms/step - loss: 27.4422\n",
      "Epoch 64/100\n",
      "225/225 [==============================] - 0s 2ms/step - loss: 26.4478\n",
      "Epoch 65/100\n",
      "225/225 [==============================] - 0s 2ms/step - loss: 26.9464\n",
      "Epoch 66/100\n",
      "225/225 [==============================] - 0s 2ms/step - loss: 26.9997\n",
      "Epoch 67/100\n",
      "225/225 [==============================] - 1s 3ms/step - loss: 27.4491\n",
      "Epoch 68/100\n",
      "225/225 [==============================] - 1s 2ms/step - loss: 26.7168\n",
      "Epoch 69/100\n",
      "225/225 [==============================] - 0s 2ms/step - loss: 26.4038\n",
      "Epoch 70/100\n",
      "225/225 [==============================] - 0s 2ms/step - loss: 26.3149\n",
      "Epoch 71/100\n",
      "225/225 [==============================] - 0s 2ms/step - loss: 26.9773\n",
      "Epoch 72/100\n",
      "225/225 [==============================] - 0s 2ms/step - loss: 26.2223\n",
      "Epoch 73/100\n",
      "225/225 [==============================] - 0s 2ms/step - loss: 26.3683\n",
      "Epoch 74/100\n",
      "225/225 [==============================] - 0s 2ms/step - loss: 27.3816\n",
      "Epoch 75/100\n",
      "225/225 [==============================] - 0s 2ms/step - loss: 26.3888\n",
      "Epoch 76/100\n",
      "225/225 [==============================] - 0s 2ms/step - loss: 27.4536\n",
      "Epoch 77/100\n",
      "225/225 [==============================] - 0s 2ms/step - loss: 26.7689\n",
      "Epoch 78/100\n",
      "225/225 [==============================] - 0s 2ms/step - loss: 26.7678\n",
      "Epoch 79/100\n",
      "225/225 [==============================] - 0s 2ms/step - loss: 26.0973\n",
      "Epoch 80/100\n",
      "225/225 [==============================] - 0s 2ms/step - loss: 26.7752\n",
      "Epoch 81/100\n",
      "225/225 [==============================] - 0s 2ms/step - loss: 26.5305\n",
      "Epoch 82/100\n",
      "225/225 [==============================] - 0s 2ms/step - loss: 27.1032\n",
      "Epoch 83/100\n",
      "225/225 [==============================] - 0s 2ms/step - loss: 26.9657\n",
      "Epoch 84/100\n",
      "225/225 [==============================] - 1s 2ms/step - loss: 26.6296\n",
      "Epoch 85/100\n",
      "225/225 [==============================] - 0s 2ms/step - loss: 25.9279\n",
      "Epoch 86/100\n",
      "225/225 [==============================] - 0s 2ms/step - loss: 26.0923\n",
      "Epoch 87/100\n",
      "225/225 [==============================] - 0s 2ms/step - loss: 26.4328\n",
      "Epoch 88/100\n",
      "225/225 [==============================] - 0s 2ms/step - loss: 26.2729\n",
      "Epoch 89/100\n",
      "225/225 [==============================] - 0s 2ms/step - loss: 26.7287\n",
      "Epoch 90/100\n",
      "225/225 [==============================] - 0s 2ms/step - loss: 26.1592\n",
      "Epoch 91/100\n",
      "225/225 [==============================] - 0s 2ms/step - loss: 27.0628\n",
      "Epoch 92/100\n",
      "225/225 [==============================] - 0s 2ms/step - loss: 26.0791\n",
      "Epoch 93/100\n",
      "225/225 [==============================] - 0s 2ms/step - loss: 26.4509\n",
      "Epoch 94/100\n",
      "225/225 [==============================] - 0s 2ms/step - loss: 27.0050\n",
      "Epoch 95/100\n",
      "225/225 [==============================] - 0s 2ms/step - loss: 26.3881\n",
      "Epoch 96/100\n",
      "225/225 [==============================] - 0s 2ms/step - loss: 27.2204\n",
      "Epoch 97/100\n",
      "225/225 [==============================] - 0s 2ms/step - loss: 26.0983\n",
      "Epoch 98/100\n",
      "225/225 [==============================] - 0s 2ms/step - loss: 26.1692\n",
      "Epoch 99/100\n",
      "225/225 [==============================] - 0s 2ms/step - loss: 26.3684\n",
      "Epoch 100/100\n",
      "225/225 [==============================] - 0s 2ms/step - loss: 26.3271\n"
     ]
    },
    {
     "data": {
      "text/plain": [
       "<keras.callbacks.History at 0x7f1620390760>"
      ]
     },
     "execution_count": 21,
     "metadata": {},
     "output_type": "execute_result"
    }
   ],
   "source": [
    "ann.fit(X_train, y_train, batch_size=32, epochs=100)"
   ]
  }
 ],
 "metadata": {
  "kernelspec": {
   "display_name": "Python 3.8.10 64-bit",
   "language": "python",
   "name": "python3"
  },
  "language_info": {
   "codemirror_mode": {
    "name": "ipython",
    "version": 3
   },
   "file_extension": ".py",
   "mimetype": "text/x-python",
   "name": "python",
   "nbconvert_exporter": "python",
   "pygments_lexer": "ipython3",
   "version": "3.8.10"
  },
  "orig_nbformat": 4,
  "vscode": {
   "interpreter": {
    "hash": "916dbcbb3f70747c44a77c7bcd40155683ae19c65e1c03b4aa3499c5328201f1"
   }
  }
 },
 "nbformat": 4,
 "nbformat_minor": 2
}
